{
  "cells": [
    {
      "attachments": {},
      "cell_type": "markdown",
      "metadata": {
        "id": "vuZlYiKY_kmW"
      },
      "source": [
        "## Setup"
      ]
    },
    {
      "cell_type": "code",
      "execution_count": null,
      "metadata": {
        "colab": {
          "base_uri": "https://localhost:8080/"
        },
        "id": "FpAKCB9Z3kbN",
        "outputId": "3bc560ca-9bb8-4c13-a8ca-89b6060b2159"
      },
      "outputs": [
        {
          "name": "stdout",
          "output_type": "stream",
          "text": [
            "Drive already mounted at /content/drive; to attempt to forcibly remount, call drive.mount(\"/content/drive\", force_remount=True).\n"
          ]
        }
      ],
      "source": [
        "from google.colab import drive\n",
        "drive.mount('/content/drive')"
      ]
    },
    {
      "cell_type": "code",
      "execution_count": null,
      "metadata": {
        "id": "z0on2X663cfE"
      },
      "outputs": [],
      "source": [
        "import os\n",
        "from pathlib import Path\n",
        "START_DIR = Path('/content/drive/MyDrive/Colab_Notebooks/Fine_tuning_HF_SD_model_using_DreamBooth_LoRA')\n",
        "# START_DIR = '.'\n",
        "os.chdir(START_DIR)\n"
      ]
    },
    {
      "cell_type": "code",
      "execution_count": null,
      "metadata": {
        "colab": {
          "base_uri": "https://localhost:8080/"
        },
        "id": "o7ft2pRt3kgs",
        "outputId": "b29abc42-6a40-4f54-a694-7c2e150263da"
      },
      "outputs": [
        {
          "name": "stdout",
          "output_type": "stream",
          "text": [
            "Looking in indexes: https://pypi.org/simple, https://us-python.pkg.dev/colab-wheels/public/simple/\n",
            "Requirement already satisfied: torch==1.13.1 in /usr/local/lib/python3.10/dist-packages (from -r requirements.txt (line 2)) (1.13.1)\n",
            "Requirement already satisfied: accelerate==0.17.1 in /usr/local/lib/python3.10/dist-packages (from -r requirements.txt (line 3)) (0.17.1)\n",
            "Requirement already satisfied: torchvision==0.14.1 in /usr/local/lib/python3.10/dist-packages (from -r requirements.txt (line 4)) (0.14.1)\n",
            "Requirement already satisfied: diffusers==0.14.0 in /usr/local/lib/python3.10/dist-packages (from -r requirements.txt (line 5)) (0.14.0)\n",
            "Requirement already satisfied: transformers==4.27.1 in /usr/local/lib/python3.10/dist-packages (from -r requirements.txt (line 6)) (4.27.1)\n",
            "Requirement already satisfied: ftfy==6.1.1 in /usr/local/lib/python3.10/dist-packages (from -r requirements.txt (line 7)) (6.1.1)\n",
            "Requirement already satisfied: triton==2.0.0 in /usr/local/lib/python3.10/dist-packages (from -r requirements.txt (line 8)) (2.0.0)\n",
            "Requirement already satisfied: tensorboard==2.11.2 in /usr/local/lib/python3.10/dist-packages (from -r requirements.txt (line 9)) (2.11.2)\n",
            "Requirement already satisfied: Jinja2==3.1.2 in /usr/local/lib/python3.10/dist-packages (from -r requirements.txt (line 10)) (3.1.2)\n",
            "Requirement already satisfied: xformers==0.0.16rc425 in /usr/local/lib/python3.10/dist-packages (from -r requirements.txt (line 11)) (0.0.16rc425)\n",
            "Requirement already satisfied: bitsandbytes==0.37.1 in /usr/local/lib/python3.10/dist-packages (from -r requirements.txt (line 12)) (0.37.1)\n",
            "Requirement already satisfied: flask==2.2.3 in /usr/local/lib/python3.10/dist-packages (from -r requirements.txt (line 13)) (2.2.3)\n",
            "Requirement already satisfied: flask_cors==3.0.10 in /usr/local/lib/python3.10/dist-packages (from -r requirements.txt (line 14)) (3.0.10)\n",
            "Requirement already satisfied: waitress==2.1.2 in /usr/local/lib/python3.10/dist-packages (from -r requirements.txt (line 15)) (2.1.2)\n",
            "Requirement already satisfied: openai>=0.27.0 in /usr/local/lib/python3.10/dist-packages (from -r requirements.txt (line 16)) (0.27.6)\n",
            "Requirement already satisfied: typing-extensions in /usr/local/lib/python3.10/dist-packages (from torch==1.13.1->-r requirements.txt (line 2)) (4.5.0)\n",
            "Requirement already satisfied: nvidia-cuda-runtime-cu11==11.7.99 in /usr/local/lib/python3.10/dist-packages (from torch==1.13.1->-r requirements.txt (line 2)) (11.7.99)\n",
            "Requirement already satisfied: nvidia-cudnn-cu11==8.5.0.96 in /usr/local/lib/python3.10/dist-packages (from torch==1.13.1->-r requirements.txt (line 2)) (8.5.0.96)\n",
            "Requirement already satisfied: nvidia-cublas-cu11==11.10.3.66 in /usr/local/lib/python3.10/dist-packages (from torch==1.13.1->-r requirements.txt (line 2)) (11.10.3.66)\n",
            "Requirement already satisfied: nvidia-cuda-nvrtc-cu11==11.7.99 in /usr/local/lib/python3.10/dist-packages (from torch==1.13.1->-r requirements.txt (line 2)) (11.7.99)\n",
            "Requirement already satisfied: numpy>=1.17 in /usr/local/lib/python3.10/dist-packages (from accelerate==0.17.1->-r requirements.txt (line 3)) (1.22.4)\n",
            "Requirement already satisfied: packaging>=20.0 in /usr/local/lib/python3.10/dist-packages (from accelerate==0.17.1->-r requirements.txt (line 3)) (23.1)\n",
            "Requirement already satisfied: psutil in /usr/local/lib/python3.10/dist-packages (from accelerate==0.17.1->-r requirements.txt (line 3)) (5.9.5)\n",
            "Requirement already satisfied: pyyaml in /usr/local/lib/python3.10/dist-packages (from accelerate==0.17.1->-r requirements.txt (line 3)) (6.0)\n",
            "Requirement already satisfied: requests in /usr/local/lib/python3.10/dist-packages (from torchvision==0.14.1->-r requirements.txt (line 4)) (2.27.1)\n",
            "Requirement already satisfied: pillow!=8.3.*,>=5.3.0 in /usr/local/lib/python3.10/dist-packages (from torchvision==0.14.1->-r requirements.txt (line 4)) (8.4.0)\n",
            "Requirement already satisfied: importlib-metadata in /usr/local/lib/python3.10/dist-packages (from diffusers==0.14.0->-r requirements.txt (line 5)) (6.6.0)\n",
            "Requirement already satisfied: filelock in /usr/local/lib/python3.10/dist-packages (from diffusers==0.14.0->-r requirements.txt (line 5)) (3.12.0)\n",
            "Requirement already satisfied: huggingface-hub>=0.10.0 in /usr/local/lib/python3.10/dist-packages (from diffusers==0.14.0->-r requirements.txt (line 5)) (0.14.1)\n",
            "Requirement already satisfied: regex!=2019.12.17 in /usr/local/lib/python3.10/dist-packages (from diffusers==0.14.0->-r requirements.txt (line 5)) (2022.10.31)\n",
            "Requirement already satisfied: tokenizers!=0.11.3,<0.14,>=0.11.1 in /usr/local/lib/python3.10/dist-packages (from transformers==4.27.1->-r requirements.txt (line 6)) (0.13.3)\n",
            "Requirement already satisfied: tqdm>=4.27 in /usr/local/lib/python3.10/dist-packages (from transformers==4.27.1->-r requirements.txt (line 6)) (4.65.0)\n",
            "Requirement already satisfied: wcwidth>=0.2.5 in /usr/local/lib/python3.10/dist-packages (from ftfy==6.1.1->-r requirements.txt (line 7)) (0.2.6)\n",
            "Requirement already satisfied: cmake in /usr/local/lib/python3.10/dist-packages (from triton==2.0.0->-r requirements.txt (line 8)) (3.25.2)\n",
            "Requirement already satisfied: lit in /usr/local/lib/python3.10/dist-packages (from triton==2.0.0->-r requirements.txt (line 8)) (16.0.3)\n",
            "Requirement already satisfied: absl-py>=0.4 in /usr/local/lib/python3.10/dist-packages (from tensorboard==2.11.2->-r requirements.txt (line 9)) (1.4.0)\n",
            "Requirement already satisfied: grpcio>=1.24.3 in /usr/local/lib/python3.10/dist-packages (from tensorboard==2.11.2->-r requirements.txt (line 9)) (1.54.0)\n",
            "Requirement already satisfied: google-auth<3,>=1.6.3 in /usr/local/lib/python3.10/dist-packages (from tensorboard==2.11.2->-r requirements.txt (line 9)) (2.17.3)\n",
            "Requirement already satisfied: google-auth-oauthlib<0.5,>=0.4.1 in /usr/local/lib/python3.10/dist-packages (from tensorboard==2.11.2->-r requirements.txt (line 9)) (0.4.6)\n",
            "Requirement already satisfied: markdown>=2.6.8 in /usr/local/lib/python3.10/dist-packages (from tensorboard==2.11.2->-r requirements.txt (line 9)) (3.4.3)\n",
            "Requirement already satisfied: protobuf<4,>=3.9.2 in /usr/local/lib/python3.10/dist-packages (from tensorboard==2.11.2->-r requirements.txt (line 9)) (3.20.3)\n",
            "Requirement already satisfied: setuptools>=41.0.0 in /usr/local/lib/python3.10/dist-packages (from tensorboard==2.11.2->-r requirements.txt (line 9)) (67.7.2)\n",
            "Requirement already satisfied: tensorboard-data-server<0.7.0,>=0.6.0 in /usr/local/lib/python3.10/dist-packages (from tensorboard==2.11.2->-r requirements.txt (line 9)) (0.6.1)\n",
            "Requirement already satisfied: tensorboard-plugin-wit>=1.6.0 in /usr/local/lib/python3.10/dist-packages (from tensorboard==2.11.2->-r requirements.txt (line 9)) (1.8.1)\n",
            "Requirement already satisfied: werkzeug>=1.0.1 in /usr/local/lib/python3.10/dist-packages (from tensorboard==2.11.2->-r requirements.txt (line 9)) (2.3.0)\n",
            "Requirement already satisfied: wheel>=0.26 in /usr/local/lib/python3.10/dist-packages (from tensorboard==2.11.2->-r requirements.txt (line 9)) (0.40.0)\n",
            "Requirement already satisfied: MarkupSafe>=2.0 in /usr/local/lib/python3.10/dist-packages (from Jinja2==3.1.2->-r requirements.txt (line 10)) (2.1.2)\n",
            "Requirement already satisfied: pyre-extensions==0.0.23 in /usr/local/lib/python3.10/dist-packages (from xformers==0.0.16rc425->-r requirements.txt (line 11)) (0.0.23)\n",
            "Requirement already satisfied: itsdangerous>=2.0 in /usr/local/lib/python3.10/dist-packages (from flask==2.2.3->-r requirements.txt (line 13)) (2.1.2)\n",
            "Requirement already satisfied: click>=8.0 in /usr/local/lib/python3.10/dist-packages (from flask==2.2.3->-r requirements.txt (line 13)) (8.1.3)\n",
            "Requirement already satisfied: Six in /usr/local/lib/python3.10/dist-packages (from flask_cors==3.0.10->-r requirements.txt (line 14)) (1.16.0)\n",
            "Requirement already satisfied: typing-inspect in /usr/local/lib/python3.10/dist-packages (from pyre-extensions==0.0.23->xformers==0.0.16rc425->-r requirements.txt (line 11)) (0.8.0)\n",
            "Requirement already satisfied: aiohttp in /usr/local/lib/python3.10/dist-packages (from openai>=0.27.0->-r requirements.txt (line 16)) (3.8.4)\n",
            "Requirement already satisfied: cachetools<6.0,>=2.0.0 in /usr/local/lib/python3.10/dist-packages (from google-auth<3,>=1.6.3->tensorboard==2.11.2->-r requirements.txt (line 9)) (5.3.0)\n",
            "Requirement already satisfied: pyasn1-modules>=0.2.1 in /usr/local/lib/python3.10/dist-packages (from google-auth<3,>=1.6.3->tensorboard==2.11.2->-r requirements.txt (line 9)) (0.3.0)\n",
            "Requirement already satisfied: rsa<5,>=3.1.4 in /usr/local/lib/python3.10/dist-packages (from google-auth<3,>=1.6.3->tensorboard==2.11.2->-r requirements.txt (line 9)) (4.9)\n",
            "Requirement already satisfied: requests-oauthlib>=0.7.0 in /usr/local/lib/python3.10/dist-packages (from google-auth-oauthlib<0.5,>=0.4.1->tensorboard==2.11.2->-r requirements.txt (line 9)) (1.3.1)\n",
            "Requirement already satisfied: fsspec in /usr/local/lib/python3.10/dist-packages (from huggingface-hub>=0.10.0->diffusers==0.14.0->-r requirements.txt (line 5)) (2023.4.0)\n",
            "Requirement already satisfied: urllib3<1.27,>=1.21.1 in /usr/local/lib/python3.10/dist-packages (from requests->torchvision==0.14.1->-r requirements.txt (line 4)) (1.26.15)\n",
            "Requirement already satisfied: certifi>=2017.4.17 in /usr/local/lib/python3.10/dist-packages (from requests->torchvision==0.14.1->-r requirements.txt (line 4)) (2022.12.7)\n",
            "Requirement already satisfied: charset-normalizer~=2.0.0 in /usr/local/lib/python3.10/dist-packages (from requests->torchvision==0.14.1->-r requirements.txt (line 4)) (2.0.12)\n",
            "Requirement already satisfied: idna<4,>=2.5 in /usr/local/lib/python3.10/dist-packages (from requests->torchvision==0.14.1->-r requirements.txt (line 4)) (3.4)\n",
            "Requirement already satisfied: attrs>=17.3.0 in /usr/local/lib/python3.10/dist-packages (from aiohttp->openai>=0.27.0->-r requirements.txt (line 16)) (23.1.0)\n",
            "Requirement already satisfied: multidict<7.0,>=4.5 in /usr/local/lib/python3.10/dist-packages (from aiohttp->openai>=0.27.0->-r requirements.txt (line 16)) (6.0.4)\n",
            "Requirement already satisfied: async-timeout<5.0,>=4.0.0a3 in /usr/local/lib/python3.10/dist-packages (from aiohttp->openai>=0.27.0->-r requirements.txt (line 16)) (4.0.2)\n",
            "Requirement already satisfied: yarl<2.0,>=1.0 in /usr/local/lib/python3.10/dist-packages (from aiohttp->openai>=0.27.0->-r requirements.txt (line 16)) (1.9.2)\n",
            "Requirement already satisfied: frozenlist>=1.1.1 in /usr/local/lib/python3.10/dist-packages (from aiohttp->openai>=0.27.0->-r requirements.txt (line 16)) (1.3.3)\n",
            "Requirement already satisfied: aiosignal>=1.1.2 in /usr/local/lib/python3.10/dist-packages (from aiohttp->openai>=0.27.0->-r requirements.txt (line 16)) (1.3.1)\n",
            "Requirement already satisfied: zipp>=0.5 in /usr/local/lib/python3.10/dist-packages (from importlib-metadata->diffusers==0.14.0->-r requirements.txt (line 5)) (3.15.0)\n",
            "Requirement already satisfied: pyasn1<0.6.0,>=0.4.6 in /usr/local/lib/python3.10/dist-packages (from pyasn1-modules>=0.2.1->google-auth<3,>=1.6.3->tensorboard==2.11.2->-r requirements.txt (line 9)) (0.5.0)\n",
            "Requirement already satisfied: oauthlib>=3.0.0 in /usr/local/lib/python3.10/dist-packages (from requests-oauthlib>=0.7.0->google-auth-oauthlib<0.5,>=0.4.1->tensorboard==2.11.2->-r requirements.txt (line 9)) (3.2.2)\n",
            "Requirement already satisfied: mypy-extensions>=0.3.0 in /usr/local/lib/python3.10/dist-packages (from typing-inspect->pyre-extensions==0.0.23->xformers==0.0.16rc425->-r requirements.txt (line 11)) (1.0.0)\n"
          ]
        }
      ],
      "source": [
        "%pip install -r requirements.txt"
      ]
    },
    {
      "cell_type": "code",
      "execution_count": null,
      "metadata": {
        "colab": {
          "base_uri": "https://localhost:8080/"
        },
        "id": "1AxijdbQf52o",
        "outputId": "93fed198-fc25-405b-9cb1-f22d7b9cb815"
      },
      "outputs": [
        {
          "data": {
            "text/plain": [
              "PosixPath('/content/drive/MyDrive/Colab_Notebooks/Fine_tuning_HF_SD_model_using_DreamBooth_LoRA')"
            ]
          },
          "execution_count": 6,
          "metadata": {},
          "output_type": "execute_result"
        }
      ],
      "source": [
        "START_DIR"
      ]
    },
    {
      "attachments": {},
      "cell_type": "markdown",
      "metadata": {
        "id": "JrnDqcsx_hfC"
      },
      "source": [
        "## Fine-tuning"
      ]
    },
    {
      "cell_type": "code",
      "execution_count": null,
      "metadata": {
        "id": "odMpwbsOc1_I"
      },
      "outputs": [],
      "source": [
        "import json\n",
        "from flask import Flask, render_template, request, jsonify\n",
        "from flask_cors import CORS\n",
        "from pathlib import Path\n",
        "from slugify import slugify\n",
        "import subprocess\n",
        "import shutil\n",
        "from waitress import serve"
      ]
    },
    {
      "cell_type": "code",
      "execution_count": null,
      "metadata": {
        "id": "2OhJhknEc1_J"
      },
      "outputs": [],
      "source": [
        "parameters_file = START_DIR / \"images_parameters.json\""
      ]
    },
    {
      "cell_type": "code",
      "execution_count": null,
      "metadata": {
        "id": "IkGVkhp8c1_J"
      },
      "outputs": [],
      "source": [
        "training_prompt = \"jelly in a glass\"\n",
        "sdiff_model_type = \"regular\"\n",
        "### For production $USER_ID is generated from Login page on Frontend ###\n",
        "### Here the *user_id* variable is received from the frontend form for testing purposes only - REPLACE it for production  ###\n",
        "user_id = \"dprhyl\"\n",
        "### For production MODIFY the line above ###############################################################\n"
      ]
    },
    {
      "cell_type": "code",
      "execution_count": null,
      "metadata": {
        "id": "YgGedH_Sc1_K"
      },
      "outputs": [],
      "source": [
        "# Retrieve available image parameters from JSON file\n",
        "with open(parameters_file) as json_file:\n",
        "    sdiff_dict = json.load(json_file)\n",
        "sdiff_model = sdiff_dict[\"sdiff_models\"][sdiff_model_type][\"name\"].split(\"/\")[-1]\n",
        "resolution = sdiff_dict[\"sdiff_models\"][sdiff_model_type][\"resolution\"]\n",
        "\n",
        "# convert training prompt to a valid directory name\n",
        "prompt_as_path = slugify(training_prompt)\n",
        "\n",
        "# construct file paths\n",
        "MODEL_PATH = START_DIR / \"HF_models\" / sdiff_model\n",
        "USER_DIR = START_DIR / \"Users\" / user_id\n",
        "LORA_DIR = USER_DIR / \"custom_models\"\n",
        "TRAINING_DATA_PATH = USER_DIR / \"training_data\" / prompt_as_path\n",
        "LR_SCHEDULER = \"constant\"\n",
        "\n",
        "# print some debug info\n",
        "print(\"*** FINETUNING ***\")\n",
        "print(\"User: \", user_id)\n",
        "print(\"Training Prompt: \", training_prompt)\n",
        "print(\"Stable Diffusion Model: \", sdiff_model)\n",
        "print(\"Loading training images from: \", TRAINING_DATA_PATH)\n"
      ]
    },
    {
      "cell_type": "code",
      "execution_count": null,
      "metadata": {
        "id": "R9YBPCFQc1_M"
      },
      "outputs": [],
      "source": [
        " # Launch train_dreambooth_lora.py with command line parameters\n",
        "print(\"Training is running, ETA = 4 min. for *512 px*, ETA = 9 min. for *768 px* \")\n",
        "subprocess.run(\n",
        "    [\n",
        "        \"accelerate\",\n",
        "        \"launch\",\n",
        "        \"train_dreambooth_lora.py\",\n",
        "        f\"--pretrained_model_name_or_path={MODEL_PATH}\",\n",
        "        f\"--instance_data_dir={TRAINING_DATA_PATH}\",\n",
        "        f\"--output_dir={LORA_DIR}\",\n",
        "        f\"--instance_prompt={training_prompt}\",\n",
        "        f\"--resolution={resolution}\",\n",
        "        f\"--train_batch_size=1\",\n",
        "        f\"--gradient_accumulation_steps=1\",\n",
        "        f\"--checkpointing_steps=250\",\n",
        "        f\"--learning_rate=1e-4\",\n",
        "        f\"--lr_scheduler={LR_SCHEDULER}\",\n",
        "        f\"--lr_warmup_steps=0\",\n",
        "        f\"--max_train_steps=500\",\n",
        "        f\"--validation_prompt={training_prompt}\",\n",
        "        f\"--validation_epochs=50\",\n",
        "        f\"--seed=0\",\n",
        "        f\"--gradient_checkpointing\",\n",
        "        f\"--use_8bit_adam\",\n",
        "        f\"--enable_xformers_memory_efficient_attention\",\n",
        "    ],\n",
        "    capture_output=True,\n",
        "    text=True,\n",
        ")\n"
      ]
    },
    {
      "cell_type": "code",
      "execution_count": null,
      "metadata": {
        "id": "xC9i-NKec1_N"
      },
      "outputs": [],
      "source": [
        "# Rename LoRA model\n",
        "created_model = LORA_DIR / \"pytorch_lora_weights.bin\"\n",
        "LORA_PATH = created_model.rename(LORA_DIR / f\"{prompt_as_path}__{sdiff_model}.bin\")\n",
        "print(\"Model saved as \", LORA_PATH)\n",
        "\n",
        "# Cleaning up - Remove intermediate checkpoints\n",
        "shutil.rmtree(LORA_DIR / \"checkpoint-250\")\n",
        "shutil.rmtree(LORA_DIR / \"checkpoint-500\")\n",
        "\n",
        "print(\"*** Finetuning finished successfully! ***\\n\")"
      ]
    },
    {
      "cell_type": "code",
      "execution_count": null,
      "metadata": {
        "id": "eljyRxx1Lnbf"
      },
      "outputs": [],
      "source": [
        "# Run app in debugging (vanilla Flask on default \"127.0.0.1:5000\")\n",
        "\n",
        "app.run(debug=True)"
      ]
    },
    {
      "cell_type": "code",
      "execution_count": null,
      "metadata": {
        "id": "a5WmaSAiLnbg"
      },
      "outputs": [],
      "source": [
        "# Run app in production (Waitress)\n",
        "serve(app, host=localhost, port=8080)"
      ]
    }
  ],
  "metadata": {
    "accelerator": "GPU",
    "colab": {
      "gpuType": "T4",
      "provenance": []
    },
    "gpuClass": "standard",
    "kernelspec": {
      "display_name": "Python 3",
      "name": "python3"
    },
    "language_info": {
      "codemirror_mode": {
        "name": "ipython",
        "version": 3
      },
      "file_extension": ".py",
      "mimetype": "text/x-python",
      "name": "python",
      "nbconvert_exporter": "python",
      "pygments_lexer": "ipython3",
      "version": "3.9.16"
    }
  },
  "nbformat": 4,
  "nbformat_minor": 0
}
